{
 "cells": [
  {
   "cell_type": "markdown",
   "metadata": {},
   "source": [
    "## 1"
   ]
  },
  {
   "cell_type": "code",
   "execution_count": 1,
   "metadata": {},
   "outputs": [
    {
     "data": {
      "text/plain": [
       "7"
      ]
     },
     "execution_count": 1,
     "metadata": {},
     "output_type": "execute_result"
    }
   ],
   "source": [
    "a = 2\n",
    "b = 5\n",
    "\n",
    "c = a+b\n",
    "\n",
    "c"
   ]
  },
  {
   "cell_type": "markdown",
   "metadata": {},
   "source": [
    "# 2 if else statements"
   ]
  },
  {
   "cell_type": "code",
   "execution_count": 7,
   "metadata": {},
   "outputs": [
    {
     "name": "stdout",
     "output_type": "stream",
     "text": [
      "  enter a number69\n",
      "number is odd entered number is 69\n"
     ]
    }
   ],
   "source": [
    "x =int(input ('  enter a number'))\n",
    "\n",
    "if x<0:\n",
    "    print('number is negative entered number is',x)\n",
    "elif x==0:\n",
    "    print('number is zero entered number is',x)\n",
    "elif x%2 ==0:\n",
    "    print('number is even entered number is',x)\n",
    "elif x%2 ==1:\n",
    "    print('number is odd entered number is',x)\n",
    "else:\n",
    "    print('program run',x)"
   ]
  },
  {
   "cell_type": "markdown",
   "metadata": {},
   "source": [
    "# 3 loops"
   ]
  },
  {
   "cell_type": "code",
   "execution_count": 23,
   "metadata": {},
   "outputs": [
    {
     "name": "stdout",
     "output_type": "stream",
     "text": [
      "0 apple\n",
      "1 grape\n",
      "2 banana\n",
      "3 1\n",
      "4 2\n",
      "5 4\n",
      "6 5\n",
      "7 10\n"
     ]
    }
   ],
   "source": [
    "A =['apple','grape','banana',1,2,4,5,10]\n",
    "\n",
    "for i in range(len(A)):\n",
    "    print(i,A[i])\n",
    "    if A[i]=='O':\n",
    "        print(i,A[i],'string')"
   ]
  },
  {
   "cell_type": "code",
   "execution_count": 26,
   "metadata": {},
   "outputs": [
    {
     "data": {
      "text/plain": [
       "[0, 1, 2, 3, 4, 5, 6, 7, 8, 9]"
      ]
     },
     "execution_count": 26,
     "metadata": {},
     "output_type": "execute_result"
    }
   ],
   "source": [
    "A =[]\n",
    "for i in range(10):\n",
    "    A.append(i)\n",
    "A"
   ]
  },
  {
   "cell_type": "code",
   "execution_count": 27,
   "metadata": {},
   "outputs": [
    {
     "data": {
      "text/plain": [
       "4950"
      ]
     },
     "execution_count": 27,
     "metadata": {},
     "output_type": "execute_result"
    }
   ],
   "source": [
    "sum(range(100))"
   ]
  },
  {
   "cell_type": "code",
   "execution_count": 28,
   "metadata": {},
   "outputs": [
    {
     "data": {
      "text/plain": [
       "100"
      ]
     },
     "execution_count": 28,
     "metadata": {},
     "output_type": "execute_result"
    }
   ],
   "source": [
    "s=0\n",
    "for i in range(100):\n",
    "    s=s+1\n",
    "s"
   ]
  },
  {
   "cell_type": "code",
   "execution_count": 54,
   "metadata": {},
   "outputs": [
    {
     "name": "stdout",
     "output_type": "stream",
     "text": [
      "enter the number 3\n",
      "3 * 2 = 6\n",
      "3 * 4 = 12\n",
      "3 * 6 = 18\n",
      "3 * 8 = 24\n",
      "3 * 10 = 30\n"
     ]
    }
   ],
   "source": [
    "x=int(input('enter the number '))\n",
    "\n",
    "for i in range(1,11):\n",
    "    \n",
    "    z=x*i\n",
    "    \n",
    "    if z%2==0:\n",
    "        print(x,'*',i,'=',z)\n"
   ]
  },
  {
   "cell_type": "code",
   "execution_count": 52,
   "metadata": {},
   "outputs": [
    {
     "name": "stdout",
     "output_type": "stream",
     "text": [
      "3 is a prime number\n",
      "4 equals 2 * 2\n",
      "5 is a prime number\n",
      "5 is a prime number\n",
      "5 is a prime number\n",
      "6 equals 2 * 3\n",
      "7 is a prime number\n",
      "7 is a prime number\n",
      "7 is a prime number\n",
      "7 is a prime number\n",
      "7 is a prime number\n",
      "8 equals 2 * 4\n",
      "9 is a prime number\n",
      "9 equals 3 * 3\n"
     ]
    }
   ],
   "source": [
    "for n in range(2, 10):\n",
    "    \n",
    "    for x in range(2, n):\n",
    "        \n",
    "        if n % x == 0:\n",
    "            \n",
    "            print(n, 'equals', x, '*', n//x)       \n",
    "            break\n",
    "        else:\n",
    "            \n",
    "            print(n, 'is a prime number')"
   ]
  },
  {
   "cell_type": "code",
   "execution_count": 56,
   "metadata": {},
   "outputs": [
    {
     "name": "stdout",
     "output_type": "stream",
     "text": [
      "enter the number 7\n",
      "7 * 2 = 14\n",
      "7 * 4 = 28\n",
      "7 * 6 = 42\n",
      "7 * 8 = 56\n",
      "7 * 10 = 70\n"
     ]
    }
   ],
   "source": [
    "x=int(input('enter the number '))\n",
    "\n",
    "for i in range(1,11):\n",
    "    \n",
    "    z=x*i\n",
    "    \n",
    "    if z%2==0:\n",
    "        print(x,'*',i,'=',z)\n"
   ]
  },
  {
   "cell_type": "markdown",
   "metadata": {},
   "source": [
    "# functions"
   ]
  },
  {
   "cell_type": "code",
   "execution_count": 69,
   "metadata": {},
   "outputs": [],
   "source": [
    "def multiflication(num,vali):\n",
    "    if vali<0:\n",
    "        print('enter positive number')\n",
    "    for i in range(1,vali+1):\n",
    "          \n",
    "        z=num*i\n",
    "    \n",
    "#     if z%2==0:\n",
    "        print(num,'*',i,'=',z)"
   ]
  },
  {
   "cell_type": "code",
   "execution_count": 71,
   "metadata": {},
   "outputs": [
    {
     "name": "stdout",
     "output_type": "stream",
     "text": [
      "12 * 1 = 12\n",
      "12 * 2 = 24\n",
      "12 * 3 = 36\n",
      "12 * 4 = 48\n",
      "12 * 5 = 60\n",
      "12 * 6 = 72\n",
      "12 * 7 = 84\n",
      "12 * 8 = 96\n",
      "12 * 9 = 108\n",
      "12 * 10 = 120\n",
      "12 * 11 = 132\n",
      "12 * 12 = 144\n",
      "12 * 13 = 156\n",
      "12 * 14 = 168\n",
      "12 * 15 = 180\n",
      "12 * 16 = 192\n",
      "12 * 17 = 204\n",
      "12 * 18 = 216\n",
      "12 * 19 = 228\n",
      "12 * 20 = 240\n"
     ]
    }
   ],
   "source": [
    "multiflication(12,20)"
   ]
  },
  {
   "cell_type": "code",
   "execution_count": 61,
   "metadata": {},
   "outputs": [
    {
     "name": "stdout",
     "output_type": "stream",
     "text": [
      "0 1 1 2 3 5 8 13 \n"
     ]
    }
   ],
   "source": [
    "# write Fibonacci series up to n\n",
    "\"\"\"Print a Fibonacci series up to n.\"\"\"\n",
    "def fib(n):\n",
    "    \n",
    "    a, b = 0, 1\n",
    "    while a < n:\n",
    "        print(a, end=' ')\n",
    "        a, b = b, a+b\n",
    "    print()\n",
    "fib(20)"
   ]
  },
  {
   "cell_type": "code",
   "execution_count": 74,
   "metadata": {},
   "outputs": [],
   "source": [
    "'''if the parmeter is not passed by the function we can write a default by assing at the begining itself'''\n",
    "\n",
    "def multiflication(num,val=5):\n",
    "    if vali<0:\n",
    "        print('enter positive number')\n",
    "    for i in range(1,vali+1):\n",
    "          \n",
    "        z=num*i\n",
    "    \n",
    "#     if z%2==0:\n",
    "        print(num,'*',i,'=',z)"
   ]
  },
  {
   "cell_type": "code",
   "execution_count": 77,
   "metadata": {},
   "outputs": [
    {
     "name": "stdout",
     "output_type": "stream",
     "text": [
      "12 * 1 = 12\n",
      "12 * 2 = 24\n",
      "12 * 3 = 36\n",
      "12 * 4 = 48\n",
      "12 * 5 = 60\n"
     ]
    }
   ],
   "source": [
    "multiflication(12)"
   ]
  },
  {
   "cell_type": "code",
   "execution_count": 88,
   "metadata": {},
   "outputs": [
    {
     "name": "stdout",
     "output_type": "stream",
     "text": [
      "12 * 1 = 12\n",
      "12 * 2 = 24\n",
      "12 * 3 = 36\n",
      "12 * 4 = 48\n",
      "12 * 5 = 60\n",
      "12 * 6 = 72\n",
      "12 * 7 = 84\n",
      "12 * 8 = 96\n",
      "12 * 9 = 108\n",
      "12 * 10 = 120\n"
     ]
    }
   ],
   "source": [
    "def multi(num):\n",
    "    i=1\n",
    "    while i< 10+1:\n",
    "        z=x*i\n",
    "        print(x,'*',i,'=',z)\n",
    "        i+=1\n",
    "multi(12)"
   ]
  },
  {
   "cell_type": "markdown",
   "metadata": {},
   "source": [
    "# file operation\n"
   ]
  },
  {
   "cell_type": "code",
   "execution_count": 98,
   "metadata": {},
   "outputs": [],
   "source": [
    "f =open('work','r+')\n",
    "f.write('12025784122454')\n",
    "f.read(12)\n",
    "f.close()"
   ]
  },
  {
   "cell_type": "code",
   "execution_count": 100,
   "metadata": {},
   "outputs": [],
   "source": [
    "f.close()"
   ]
  },
  {
   "cell_type": "code",
   "execution_count": 126,
   "metadata": {},
   "outputs": [
    {
     "name": "stdout",
     "output_type": "stream",
     "text": [
      "(12, '*', 1, '=', 12)\n",
      "(12, '*', 2, '=', 24)\n",
      "(12, '*', 3, '=', 36)\n",
      "(12, '*', 4, '=', 48)\n",
      "(12, '*', 5, '=', 60)\n",
      "(12, '*', 6, '=', 72)\n",
      "(12, '*', 7, '=', 84)\n",
      "(12, '*', 8, '=', 96)\n",
      "(12, '*', 9, '=', 108)\n",
      "(12, '*', 10, '=', 120)\n"
     ]
    }
   ],
   "source": [
    "def multi(num):\n",
    "    i=1\n",
    "    while i< 10+1:\n",
    "        z=x*i\n",
    "        val =(x,'*',i,'=',z)\n",
    "        print(val)\n",
    "        s=str(val)\n",
    "        f=open('work','r+')\n",
    "        f.write('written s')\n",
    "        f.read()\n",
    "        \n",
    "        i+=1\n",
    "    \n",
    "multi(12)"
   ]
  },
  {
   "cell_type": "code",
   "execution_count": null,
   "metadata": {},
   "outputs": [],
   "source": []
  }
 ],
 "metadata": {
  "kernelspec": {
   "display_name": "Python 3",
   "language": "python",
   "name": "python3"
  },
  "language_info": {
   "codemirror_mode": {
    "name": "ipython",
    "version": 3
   },
   "file_extension": ".py",
   "mimetype": "text/x-python",
   "name": "python",
   "nbconvert_exporter": "python",
   "pygments_lexer": "ipython3",
   "version": "3.6.9"
  }
 },
 "nbformat": 4,
 "nbformat_minor": 2
}
